{
 "cells": [
  {
   "cell_type": "markdown",
   "metadata": {
    "id": "HIHRj2Qgx0yO"
   },
   "source": [
    "## Homework 4\n",
    "### Artificial Intelligence, 2024 Fall\n",
    "\n",
    "In this homework we will learn and practice the basics of deep learning by building a deep learning model and training the model by ourselves. With using the PyTorch library, we will implement an image classifier and train with public datasets.\n",
    "\n",
    "We recommend to use Google colab for doing this homework."
   ]
  },
  {
   "cell_type": "markdown",
   "metadata": {
    "id": "L925PcAfx8z_"
   },
   "source": [
    "Let's first import the necessary libraries for implementation."
   ]
  },
  {
   "cell_type": "code",
   "execution_count": 1,
   "metadata": {
    "id": "uH--XczULyu_"
   },
   "outputs": [],
   "source": [
    "import torch\n",
    "import torchvision\n",
    "import torchvision.transforms as transforms\n",
    "import torch.nn as nn\n",
    "import torch.nn.functional as F\n",
    "\n",
    "if torch.cuda.is_available():\n",
    "    device = torch.device(\"cuda:0\")\n",
    "else:\n",
    "    print(\"Please set GPU via Edit -> Notebook Settings.\")\n",
    "    device = torch.device(\"cpu\")"
   ]
  },
  {
   "cell_type": "markdown",
   "metadata": {
    "id": "X5k6LvIhpGEa"
   },
   "source": [
    "In this homework we are going to use the CIFAR-10 dataset. Using the torchvision library, let's download datasets for training and testing.\n",
    "We first have to convert the images into PyTorch tensors, and normalize them."
   ]
  },
  {
   "cell_type": "code",
   "execution_count": 2,
   "metadata": {
    "colab": {
     "base_uri": "https://localhost:8080/"
    },
    "id": "nbeAtP0S0-Fy",
    "outputId": "fb8ecb26-7e69-4d46-e0e3-49b6fe16cd20"
   },
   "outputs": [
    {
     "name": "stdout",
     "output_type": "stream",
     "text": [
      "Downloading https://www.cs.toronto.edu/~kriz/cifar-10-python.tar.gz to ./data/cifar-10-python.tar.gz\n"
     ]
    },
    {
     "name": "stderr",
     "output_type": "stream",
     "text": [
      "100%|██████████| 170M/170M [00:13<00:00, 12.5MB/s]\n"
     ]
    },
    {
     "name": "stdout",
     "output_type": "stream",
     "text": [
      "Extracting ./data/cifar-10-python.tar.gz to ./data\n",
      "Files already downloaded and verified\n"
     ]
    }
   ],
   "source": [
    "cifar10_mean=[0.49139968, 0.48215827 ,0.44653124]\n",
    "cifar10_std=[0.24703233, 0.24348505, 0.26158768]\n",
    "transform_train = transforms.Compose([\n",
    "    transforms.RandomCrop(32, padding=4), # for data augmentation\n",
    "    transforms.RandomHorizontalFlip(), # for data augmentation\n",
    "    transforms.ToTensor(),\n",
    "  transforms.Normalize(cifar10_mean, cifar10_std),\n",
    "])\n",
    "\n",
    "transform_test = transforms.Compose([\n",
    "    transforms.ToTensor(),\n",
    "  transforms.Normalize(cifar10_mean, cifar10_std),\n",
    "])\n",
    "\n",
    "trainset = torchvision.datasets.CIFAR10(\n",
    "    root='./data', train=True, download=True, transform=transform_train)\n",
    "trainloader = torch.utils.data.DataLoader(\n",
    "    trainset, batch_size=128, shuffle=True, num_workers=2)\n",
    "\n",
    "testset = torchvision.datasets.CIFAR10(\n",
    "    root='./data', train=False, download=True, transform=transform_test)\n",
    "testloader = torch.utils.data.DataLoader(\n",
    "    testset, batch_size=32, shuffle=False, num_workers=2)\n",
    "\n",
    "classes = ('plane', 'car', 'bird', 'cat', 'deer',\n",
    "           'dog', 'frog', 'horse', 'ship', 'truck')"
   ]
  },
  {
   "cell_type": "markdown",
   "metadata": {
    "id": "nyzT_YPWLyvB"
   },
   "source": [
    "Let's visualize some of the images in the dataset."
   ]
  },
  {
   "cell_type": "code",
   "execution_count": 3,
   "metadata": {
    "colab": {
     "base_uri": "https://localhost:8080/",
     "height": 210
    },
    "id": "UC4DqHaMLyvB",
    "outputId": "224c60c3-271d-4d1b-cac3-f59afc87b1d4"
   },
   "outputs": [
    {
     "name": "stdout",
     "output_type": "stream",
     "text": [
      "  cat\t  ship\t  ship\t plane\t\n"
     ]
    },
    {
     "data": {
      "image/png": "[encoded data removed]",
      "text/plain": [
       "<Figure size 640x480 with 1 Axes>"
      ]
     },
     "metadata": {},
     "output_type": "display_data"
    }
   ],
   "source": [
    "from torch.utils.data.dataset import TensorDataset\n",
    "import matplotlib.pyplot as plt\n",
    "import numpy as np\n",
    "\n",
    "# functions to show an image\n",
    "def denorm_imgshow(img, mean=cifar10_mean, std=cifar10_std):\n",
    "    mean = np.asarray(mean)\n",
    "    std = np.asarray(std)\n",
    "    denormalize = transforms.Normalize((-1 * mean / std), (1.0 / std))\n",
    "    result_img = img.squeeze(0)\n",
    "    result_img = denormalize(result_img)\n",
    "\n",
    "    # clip image value between 0 and 1\n",
    "    result_img = torch.clamp(result_img, 0, 1)\n",
    "    np_img = result_img.numpy()\n",
    "    plt.imshow(np.transpose(np_img, (1, 2, 0)))\n",
    "\n",
    "# get some random training images\n",
    "dataiter = iter(testloader)\n",
    "images, labels = next(dataiter)\n",
    "images = images[0:4]\n",
    "labels = labels[0:4]\n",
    "\n",
    "# show images and print labels\n",
    "denorm_imgshow(torchvision.utils.make_grid(images))\n",
    "print(' '.join('%5s\\t' % classes[labels[j]] for j in range(4)))"
   ]
  },
  {
   "cell_type": "markdown",
   "metadata": {
    "id": "iWXIN-1S116_"
   },
   "source": [
    "We checked that data is downloaded properly, and it's time to start implementing our model. In this homework,  we will implement ResNet-50. ResNet is a widely used model, known to solve the vanishing gradient problem which appeared in models with deep network structures, by exploiting residual learning. For detailed explanation, please look up the paper: https://arxiv.org/abs/1512.03385."
   ]
  },
  {
   "cell_type": "markdown",
   "metadata": {
    "id": "-aVMcup66SKt"
   },
   "source": [
    "### Implementation\n",
    "ResNet-50 is made up of building blocks called “bottlenecks”. The structure of a building block is as follows:\n",
    "\n",
    "<div>\n",
    "<img src=\"https://img1.daumcdn.net/thumb/R800x0/?scode=mtistory2&fname=https%3A%2F%2Ft1.daumcdn.net%2Fcfile%2Ftistory%2F9907E0375CB8A11F0F\" width=\"400\"/>\n",
    "</div>\n",
    "\n",
    "First implement a building block by filling in the following skeleton code.\n",
    "\n",
    "- Each weight layer consists of ```conv2d``` - ```batchnorm2d``` - ```relu``` activation\n",
    "- To match the dimension for residual learning, implement and use the ```self.shortcut``` in the skeleton code.\n",
    "- The number 1 and 3 in the figure indicates kernel sizes.\n",
    "- For first and last ```conv2d``` layer, fix the stride to 1. For the second ```conv2d``` layer, stride is determined by input."
   ]
  },
  {
   "cell_type": "code",
   "execution_count": 4,
   "metadata": {
    "id": "ZOYUKTq66nbx"
   },
   "outputs": [],
   "source": [
    "import torch\n",
    "import torch.nn as nn\n",
    "\n",
    "class Bottleneck(nn.Module):\n",
    "    expansion = 4\n",
    "    def __init__(self, in_channels, channels, stride=1):\n",
    "        super(Bottleneck, self).__init__()\n",
    "        # TODO\n",
    "        self.conv1 = nn.Sequential(\n",
    "            nn.Conv2d(in_channels, channels, kernel_size=1, stride=1, bias=False),\n",
    "            nn.BatchNorm2d(channels)\n",
    "        )\n",
    "        self.conv2 = nn.Sequential(\n",
    "            nn.Conv2d(channels, channels, kernel_size=3, stride=stride, padding=1, bias=False),\n",
    "            nn.BatchNorm2d(channels)\n",
    "        )\n",
    "        self.conv3 = nn.Sequential(\n",
    "            nn.Conv2d(channels, self.expansion*channels, kernel_size=1, stride=1, bias=False),\n",
    "            nn.BatchNorm2d(self.expansion * channels)\n",
    "        )\n",
    "        self.relu = nn.ReLU()\n",
    "\n",
    "        self.shortcut = nn.Sequential()\n",
    "        if stride != 1 or in_channels != self.expansion*channels:\n",
    "            # TODO\n",
    "            self.shortcut = nn.Sequential(\n",
    "                nn.Conv2d(in_channels, self.expansion*channels, kernel_size=1, stride=stride, bias=False),\n",
    "                nn.BatchNorm2d(self.expansion*channels)\n",
    "            )\n",
    "\n",
    "    def forward(self, x):\n",
    "        # TODO\n",
    "        out = self.relu(self.conv1(x))\n",
    "        out = self.relu(self.conv2(out))\n",
    "        out = self.conv3(out)\n",
    "        out += self.shortcut(x)\n",
    "        out = self.relu(out)\n",
    "        return out\n"
   ]
  },
  {
   "cell_type": "markdown",
   "metadata": {
    "id": "65Khqc0G8ai4"
   },
   "source": [
    "With the bottleneck block, we will implement ResNet-50 with the blocks. The structure of ResNet-50 is in the following table (3rd column):\n",
    "![table](https://user-images.githubusercontent.com/68190553/117823565-9345b100-b2a8-11eb-8b06-cfbe5511b053.png)\n"
   ]
  },
  {
   "cell_type": "markdown",
   "metadata": {
    "id": "33ojXRcnVlSt"
   },
   "source": [
    "Implementation details:\n",
    "- First layer (the ```conv1``` in the table) is made up of  ```conv2d``` layer with kernel size 7, channel 64, and stride 2, (and set padding to 3) followed by a ```batchnorm2d``` layer.\n",
    "- ```conv2_x```, ```conv3_x```,  ```conv4_x```,  ```conv5_x``` layer consists of the bottleneck blocks, with different number of channels.\n",
    "- There should be a ```MaxPool2d``` layer before  ```conv2_x``` with kernel size 3 and stride 2, padding 1.\n",
    "- For ```conv2_x```, set stride to 1. For ```conv3_x```,  ```conv4_x```, ```conv5_x``` set stride to 2.\n",
    "- The output after ```conv5_x``` should pass average pooling, and a fully connected layer. Use ```torch.nn.AdaptiveAvgPool2d``` for average pooling and  ```nn.Linear``` for fully connected layer.\n",
    "- You do not have to implement softmax. (In training, we will use cross entropy loss)\n"
   ]
  },
  {
   "cell_type": "code",
   "execution_count": 5,
   "metadata": {
    "id": "2ezB_Tdr-Vdf"
   },
   "outputs": [],
   "source": [
    "class ResNet50(nn.Module):\n",
    "    def __init__(self, num_blocks=[3,4,6,3], num_classes=10):\n",
    "        super().__init__()\n",
    "        # TODO\n",
    "        self.in_channels = 64\n",
    "        self.conv1 = nn.Conv2d(3, 64, kernel_size=7, stride=2, padding=3, bias=False)\n",
    "        self.bn1 = nn.BatchNorm2d(64)\n",
    "        self.relu = nn.ReLU(inplace=True)\n",
    "        self.maxpool = nn.MaxPool2d(kernel_size=3, stride=2, padding=1)\n",
    "        self.conv2_x = self._make_layer(Bottleneck, 64, num_blocks[0], stride=1)\n",
    "        self.conv3_x= self._make_layer(Bottleneck, 128, num_blocks[1], stride=2)\n",
    "        self.conv4_x= self._make_layer(Bottleneck, 256, num_blocks[2], stride=2)\n",
    "        self.conv5_x = self._make_layer(Bottleneck, 512, num_blocks[3], stride=2)\n",
    "        self.avgpool = nn.AdaptiveAvgPool2d((1, 1))\n",
    "        self.fc = nn.Linear(512 * Bottleneck.expansion, num_classes)\n",
    "\n",
    "    def _make_layer(self, block, out_channels, num_blocks, stride):\n",
    "        strides = [stride] + [1] * (num_blocks - 1)\n",
    "        layers = []\n",
    "        for stride in strides:\n",
    "            layers.append(block(self.in_channels, out_channels, stride))\n",
    "            self.in_channels = out_channels * block.expansion\n",
    "        return nn.Sequential(*layers)\n",
    "\n",
    "    def forward(self,x):\n",
    "        # TODO\n",
    "        x = self.relu(self.bn1(self.conv1(x)))\n",
    "        x = self.maxpool(x)\n",
    "        x = self.conv2_x(x)\n",
    "        x = self.conv3_x(x)\n",
    "        x = self.conv4_x(x)\n",
    "        x = self.conv5_x(x)\n",
    "        x = self.avgpool(x)\n",
    "        x = torch.flatten(x, 1)\n",
    "        x = self.fc(x)\n",
    "        return x\n"
   ]
  },
  {
   "cell_type": "markdown",
   "metadata": {
    "id": "yfirQyCKefMw"
   },
   "source": [
    "As we finished building the model, we will implement optimizer and criterion for training. The details are as follows:\n",
    "- SGD optimizer (you can change and test with different parameters if you want). Use ```torch.optim.SGD``` for implementation.\n",
    "- cross entropy loss (as this is a classification task) Use ```torch.nn.CrossEntropyLoss``` for implementation."
   ]
  },
  {
   "cell_type": "code",
   "execution_count": 9,
   "metadata": {
    "id": "ZtKYNISkhGjh"
   },
   "outputs": [],
   "source": [
    "model = ResNet50()\n",
    "model.to(device)\n",
    "criterion = torch.nn.CrossEntropyLoss()\n",
    "optimizer = torch.optim.SGD(model.parameters(), lr=0.1, momentum=0.9, weight_decay=5e-4)"
   ]
  },
  {
   "cell_type": "markdown",
   "metadata": {
    "id": "WMlfBGQ9htIR"
   },
   "source": [
    "We will move on to training our model with the data loaded above. For each training epoch, the following has to be done:\n",
    "\n",
    "- Get data (batches), load images and labels from the data. Use the ```trainloader``` in the skeleton code.\n",
    "- Set parameter gradients to zero. Use ```optimizer.zero_grad()```.\n",
    "- Feedforward data to get the model output.\n",
    "- Compute losses, and do backpropagation for optimization. Use ```loss.backward()``` and ```optimizer.step()```.\n",
    "\n",
    "You may add additional functions to print or plot the losses."
   ]
  },
  {
   "cell_type": "code",
   "execution_count": 10,
   "metadata": {
    "colab": {
     "base_uri": "https://localhost:8080/"
    },
    "id": "vGDC_bezLyvD",
    "outputId": "716b1120-2d8e-416e-84db-f181c3417334"
   },
   "outputs": [
    {
     "name": "stdout",
     "output_type": "stream",
     "text": [
      "[Epoch: 1] loss: 0.030\n",
      "[Epoch: 2] loss: 0.016\n",
      "[Epoch: 3] loss: 0.014\n",
      "[Epoch: 4] loss: 0.013\n",
      "[Epoch: 5] loss: 0.012\n",
      "[Epoch: 6] loss: 0.012\n",
      "[Epoch: 7] loss: 0.011\n",
      "[Epoch: 8] loss: 0.011\n",
      "[Epoch: 9] loss: 0.010\n",
      "[Epoch: 10] loss: 0.010\n",
      "[Epoch: 11] loss: 0.009\n",
      "[Epoch: 12] loss: 0.010\n",
      "[Epoch: 13] loss: 0.009\n",
      "[Epoch: 14] loss: 0.008\n",
      "[Epoch: 15] loss: 0.008\n",
      "[Epoch: 16] loss: 0.008\n",
      "[Epoch: 17] loss: 0.007\n",
      "[Epoch: 18] loss: 0.007\n",
      "[Epoch: 19] loss: 0.007\n",
      "[Epoch: 20] loss: 0.007\n",
      "[Epoch: 21] loss: 0.007\n",
      "[Epoch: 22] loss: 0.007\n",
      "[Epoch: 23] loss: 0.007\n",
      "[Epoch: 24] loss: 0.007\n",
      "[Epoch: 25] loss: 0.007\n",
      "[Epoch: 26] loss: 0.006\n",
      "[Epoch: 27] loss: 0.006\n",
      "[Epoch: 28] loss: 0.006\n",
      "[Epoch: 29] loss: 0.006\n",
      "[Epoch: 30] loss: 0.006\n",
      "[Epoch: 31] loss: 0.006\n",
      "[Epoch: 32] loss: 0.006\n",
      "[Epoch: 33] loss: 0.006\n",
      "[Epoch: 34] loss: 0.006\n",
      "[Epoch: 35] loss: 0.006\n",
      "[Epoch: 36] loss: 0.006\n",
      "[Epoch: 37] loss: 0.006\n",
      "[Epoch: 38] loss: 0.006\n",
      "[Epoch: 39] loss: 0.006\n",
      "[Epoch: 40] loss: 0.006\n",
      "[Epoch: 41] loss: 0.006\n",
      "[Epoch: 42] loss: 0.006\n",
      "[Epoch: 43] loss: 0.006\n",
      "[Epoch: 44] loss: 0.006\n",
      "[Epoch: 45] loss: 0.006\n",
      "[Epoch: 46] loss: 0.006\n",
      "[Epoch: 47] loss: 0.006\n",
      "[Epoch: 48] loss: 0.006\n",
      "[Epoch: 49] loss: 0.006\n",
      "[Epoch: 50] loss: 0.006\n"
     ]
    }
   ],
   "source": [
    "for epoch in range(50): # you may change the number of epoches depending on the learning rate\n",
    "    # TODO\n",
    "    model.train()\n",
    "    running_loss = 0.0\n",
    "    total_data = 0\n",
    "\n",
    "    for idx, data in enumerate(trainloader):\n",
    "        # TODO\n",
    "        inputs, labels = data[0].to(device), data[1].to(device)\n",
    "        optimizer.zero_grad()\n",
    "        outputs = model(inputs)\n",
    "        loss = criterion(outputs, labels)\n",
    "\n",
    "        loss.backward()\n",
    "        optimizer.step()\n",
    "        running_loss += loss.item()\n",
    "        total_data += labels.size(0)\n",
    "\n",
    "    print('[Epoch: %d] loss: %.3f' %(epoch+1, running_loss / total_data))"
   ]
  },
  {
   "cell_type": "markdown",
   "metadata": {
    "id": "WKEak6VYiFb0"
   },
   "source": [
    "Evaluate the trained model with testing dataset. The overall process is similar with training the model, except that (1) the model is in evaluation mode, (2) the ```autograd``` is turned off."
   ]
  },
  {
   "cell_type": "code",
   "execution_count": 11,
   "metadata": {
    "colab": {
     "base_uri": "https://localhost:8080/"
    },
    "id": "sNe8XxshlBce",
    "outputId": "1d0cd272-30b6-424a-d73f-9d201f57122e"
   },
   "outputs": [
    {
     "name": "stdout",
     "output_type": "stream",
     "text": [
      "Test Loss: 0.879 | Accuracy: 70 %\n"
     ]
    }
   ],
   "source": [
    "model.eval()  # this changes the model's mode into evaluation mode\n",
    "with torch.no_grad(): # turn off autograd\n",
    "    # TODO\n",
    "    test_loss = 0\n",
    "    correct = 0\n",
    "    total = 0\n",
    "    for data in testloader:\n",
    "        images, labels = data[0].to(device), data[1].to(device)\n",
    "        outputs = model(images)\n",
    "\n",
    "        loss = criterion(outputs, labels)\n",
    "        test_loss += loss.item()\n",
    "\n",
    "        _, predicted = torch.max(outputs.data, 1)\n",
    "        total += labels.size(0)\n",
    "        correct += (predicted == labels).sum().item()\n",
    "\n",
    "    print('Test Loss: %.3f | Accuracy: %d %%' % (\n",
    "        test_loss / len(testloader), 100 * correct / total))\n"
   ]
  },
  {
   "cell_type": "markdown",
   "metadata": {
    "id": "TMg6XtpvmVqR"
   },
   "source": [
    "### Result Report\n",
    "\n",
    "Once you finish the implementation, write the results in this colab file. The results should include:\n",
    "- results of the training loss per epoch (doesn't have to print/plot the results for every epoches. Printing/plotting within a certain frequency is fine)\n",
    "- results (losses) for evaluation\n",
    "- accuracy of classification in percentage for evaluation. Note: The accuracy percentage would not affect your grade. That is, regardless of the accuracy percentage value, you will get your grade if you measure and write on your report.\n",
    "\n",
    "You may do additional experiments (e.g., changing parameters, etc) but this will not affect your grade, which means there will be no points on additional experiments.  \n"
   ]
  }
 ],
 "metadata": {
  "accelerator": "GPU",
  "colab": {
   "provenance": []
  },
  "gpuClass": "standard",
  "kernelspec": {
   "display_name": "Python 3",
   "name": "python3"
  },
  "language_info": {
   "name": "python"
  }
 },
 "nbformat": 4,
 "nbformat_minor": 0
}
